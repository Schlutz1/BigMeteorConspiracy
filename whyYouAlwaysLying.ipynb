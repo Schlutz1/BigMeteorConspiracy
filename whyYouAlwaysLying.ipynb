{
 "cells": [
  {
   "cell_type": "markdown",
   "metadata": {},
   "source": [
    "# Is Perisher Full of Shit?\n",
    "Do ski resorts artifically inflate their forecasts to increase business?"
   ]
  },
  {
   "cell_type": "markdown",
   "metadata": {},
   "source": [
    "### Config "
   ]
  },
  {
   "cell_type": "code",
   "execution_count": 3,
   "metadata": {
    "tags": []
   },
   "outputs": [
    {
     "name": "stdout",
     "output_type": "stream",
     "text": [
      "The autoreload extension is already loaded. To reload it, use:\n",
      "  %reload_ext autoreload\n",
      "\n",
      "Last run: 2020-10-10\n"
     ]
    }
   ],
   "source": [
    "%load_ext autoreload\n",
    "%autoreload 2\n",
    "\n",
    "# imports\n",
    "import getPerisherForecast\n",
    "import getTableauWrapper\n",
    "\n",
    "import pandas as pd\n",
    "import datetime\n",
    "import os, sys\n",
    "import sqlite3\n",
    "\n",
    "import seaborn as sns; sns.set()\n",
    "import matplotlib.pyplot as plt\n",
    "\n",
    "\n",
    "# globals\n",
    "db = \"./catch.db\"\n",
    "conn = sqlite3.connect(db)\n",
    "\n",
    "today = datetime.datetime.strftime(datetime.datetime.today(), '%Y-%m-%d')\n",
    "print(f\"\\nLast run: {today}\")"
   ]
  },
  {
   "cell_type": "markdown",
   "metadata": {},
   "source": [
    "### Get Perisher Forecast"
   ]
  },
  {
   "cell_type": "code",
   "execution_count": 4,
   "metadata": {
    "tags": []
   },
   "outputs": [
    {
     "name": "stdout",
     "output_type": "stream",
     "text": [
      "Message: no such element: Unable to locate element: {\"method\":\"xpath\",\"selector\":\"/html/body/div[2]/div[2]/section[1]/div/div[2]/div[7]/table/tbody/tr[13]/td[1]\"}\n",
      "  (Session info: chrome=85.0.4183.121)\n",
      "\n",
      "Message: no such element: Unable to locate element: {\"method\":\"xpath\",\"selector\":\"/html/body/div[2]/div[2]/section[1]/div/div[2]/div[7]/table/tbody/tr[13]/td[2]\"}\n",
      "  (Session info: chrome=85.0.4183.121)\n",
      "\n",
      "Message: no such element: Unable to locate element: {\"method\":\"xpath\",\"selector\":\"/html/body/div[2]/div[2]/section[1]/div/div[2]/div[7]/table/tbody/tr[13]/td[3]\"}\n",
      "  (Session info: chrome=85.0.4183.121)\n",
      "\n",
      "Message: no such element: Unable to locate element: {\"method\":\"xpath\",\"selector\":\"/html/body/div[2]/div[2]/section[1]/div/div[2]/div[7]/table/tbody/tr[13]/td[4]\"}\n",
      "  (Session info: chrome=85.0.4183.121)\n",
      "\n",
      "Message: no such element: Unable to locate element: {\"method\":\"xpath\",\"selector\":\"/html/body/div[2]/div[2]/section[1]/div/div[2]/div[7]/table/tbody/tr[13]/td[5]\"}\n",
      "  (Session info: chrome=85.0.4183.121)\n",
      "\n",
      "Message: no such element: Unable to locate element: {\"method\":\"xpath\",\"selector\":\"/html/body/div[2]/div[2]/section[1]/div/div[2]/div[7]/table/tbody/tr[13]/td[6]\"}\n",
      "  (Session info: chrome=85.0.4183.121)\n",
      "\n",
      "Message: no such element: Unable to locate element: {\"method\":\"xpath\",\"selector\":\"/html/body/div[2]/div[2]/section[1]/div/div[2]/div[7]/table/tbody/tr[14]/td[1]\"}\n",
      "  (Session info: chrome=85.0.4183.121)\n",
      "\n",
      "Message: no such element: Unable to locate element: {\"method\":\"xpath\",\"selector\":\"/html/body/div[2]/div[2]/section[1]/div/div[2]/div[7]/table/tbody/tr[14]/td[2]\"}\n",
      "  (Session info: chrome=85.0.4183.121)\n",
      "\n",
      "Message: no such element: Unable to locate element: {\"method\":\"xpath\",\"selector\":\"/html/body/div[2]/div[2]/section[1]/div/div[2]/div[7]/table/tbody/tr[14]/td[3]\"}\n",
      "  (Session info: chrome=85.0.4183.121)\n",
      "\n",
      "Message: no such element: Unable to locate element: {\"method\":\"xpath\",\"selector\":\"/html/body/div[2]/div[2]/section[1]/div/div[2]/div[7]/table/tbody/tr[14]/td[4]\"}\n",
      "  (Session info: chrome=85.0.4183.121)\n",
      "\n",
      "Message: no such element: Unable to locate element: {\"method\":\"xpath\",\"selector\":\"/html/body/div[2]/div[2]/section[1]/div/div[2]/div[7]/table/tbody/tr[14]/td[5]\"}\n",
      "  (Session info: chrome=85.0.4183.121)\n",
      "\n",
      "Message: no such element: Unable to locate element: {\"method\":\"xpath\",\"selector\":\"/html/body/div[2]/div[2]/section[1]/div/div[2]/div[7]/table/tbody/tr[14]/td[6]\"}\n",
      "  (Session info: chrome=85.0.4183.121)\n",
      "\n",
      "Message: no such element: Unable to locate element: {\"method\":\"xpath\",\"selector\":\"/html/body/div[2]/div[2]/section[1]/div/div[2]/div[7]/table/tbody/tr[15]/td[1]\"}\n",
      "  (Session info: chrome=85.0.4183.121)\n",
      "\n",
      "Message: no such element: Unable to locate element: {\"method\":\"xpath\",\"selector\":\"/html/body/div[2]/div[2]/section[1]/div/div[2]/div[7]/table/tbody/tr[15]/td[2]\"}\n",
      "  (Session info: chrome=85.0.4183.121)\n",
      "\n",
      "Message: no such element: Unable to locate element: {\"method\":\"xpath\",\"selector\":\"/html/body/div[2]/div[2]/section[1]/div/div[2]/div[7]/table/tbody/tr[15]/td[3]\"}\n",
      "  (Session info: chrome=85.0.4183.121)\n",
      "\n",
      "Message: no such element: Unable to locate element: {\"method\":\"xpath\",\"selector\":\"/html/body/div[2]/div[2]/section[1]/div/div[2]/div[7]/table/tbody/tr[15]/td[4]\"}\n",
      "  (Session info: chrome=85.0.4183.121)\n",
      "\n",
      "Message: no such element: Unable to locate element: {\"method\":\"xpath\",\"selector\":\"/html/body/div[2]/div[2]/section[1]/div/div[2]/div[7]/table/tbody/tr[15]/td[5]\"}\n",
      "  (Session info: chrome=85.0.4183.121)\n",
      "\n",
      "Message: no such element: Unable to locate element: {\"method\":\"xpath\",\"selector\":\"/html/body/div[2]/div[2]/section[1]/div/div[2]/div[7]/table/tbody/tr[15]/td[6]\"}\n",
      "  (Session info: chrome=85.0.4183.121)\n",
      "\n",
      "(14, 6)\n"
     ]
    },
    {
     "data": {
      "text/html": [
       "<div>\n",
       "<style scoped>\n",
       "    .dataframe tbody tr th:only-of-type {\n",
       "        vertical-align: middle;\n",
       "    }\n",
       "\n",
       "    .dataframe tbody tr th {\n",
       "        vertical-align: top;\n",
       "    }\n",
       "\n",
       "    .dataframe thead th {\n",
       "        text-align: right;\n",
       "    }\n",
       "</style>\n",
       "<table border=\"1\" class=\"dataframe\">\n",
       "  <thead>\n",
       "    <tr style=\"text-align: right;\">\n",
       "      <th></th>\n",
       "      <th>forecast_date</th>\n",
       "      <th>weather</th>\n",
       "      <th>prob._of_precip</th>\n",
       "      <th>likely_snow</th>\n",
       "      <th>snow_level</th>\n",
       "      <th>wind</th>\n",
       "    </tr>\n",
       "  </thead>\n",
       "  <tbody>\n",
       "    <tr>\n",
       "      <th>0</th>\n",
       "      <td>Sat Oct 10</td>\n",
       "      <td>Mostly sunny. Possible late shower</td>\n",
       "      <td>45%</td>\n",
       "      <td>Nil</td>\n",
       "      <td></td>\n",
       "      <td>NW</td>\n",
       "    </tr>\n",
       "    <tr>\n",
       "      <th>1</th>\n",
       "      <td>Sun Oct 11</td>\n",
       "      <td>Mostly cloudy. Showers later</td>\n",
       "      <td>55%</td>\n",
       "      <td>Nil</td>\n",
       "      <td></td>\n",
       "      <td>W to SE</td>\n",
       "    </tr>\n",
       "    <tr>\n",
       "      <th>2</th>\n",
       "      <td>Mon Oct 12</td>\n",
       "      <td>Partly cloudy. Showers later</td>\n",
       "      <td>60%</td>\n",
       "      <td>Nil</td>\n",
       "      <td></td>\n",
       "      <td>NW to SW</td>\n",
       "    </tr>\n",
       "    <tr>\n",
       "      <th>3</th>\n",
       "      <td>Tue Oct 13</td>\n",
       "      <td>Partly cloudy. Possible shower</td>\n",
       "      <td>60%</td>\n",
       "      <td>Nil</td>\n",
       "      <td></td>\n",
       "      <td>SE to W</td>\n",
       "    </tr>\n",
       "    <tr>\n",
       "      <th>4</th>\n",
       "      <td>Wed Oct 14</td>\n",
       "      <td>Partly cloudy. Possible shower</td>\n",
       "      <td>70%</td>\n",
       "      <td>Nil</td>\n",
       "      <td></td>\n",
       "      <td>NE/NW</td>\n",
       "    </tr>\n",
       "    <tr>\n",
       "      <th>5</th>\n",
       "      <td>Thu Oct 15</td>\n",
       "      <td>Mostly cloudy. Showers</td>\n",
       "      <td>70%</td>\n",
       "      <td>Nil</td>\n",
       "      <td></td>\n",
       "      <td>NE to NW</td>\n",
       "    </tr>\n",
       "    <tr>\n",
       "      <th>6</th>\n",
       "      <td>Fri Oct 16</td>\n",
       "      <td>Mostly cloudy. Showers</td>\n",
       "      <td>60%</td>\n",
       "      <td>Nil</td>\n",
       "      <td></td>\n",
       "      <td>NE to NW</td>\n",
       "    </tr>\n",
       "    <tr>\n",
       "      <th>7</th>\n",
       "      <td>Sat Oct 17</td>\n",
       "      <td>Mostly cloudy. Showers</td>\n",
       "      <td>60%</td>\n",
       "      <td>Nil</td>\n",
       "      <td></td>\n",
       "      <td>N/NW</td>\n",
       "    </tr>\n",
       "    <tr>\n",
       "      <th>8</th>\n",
       "      <td>Sun Oct 18</td>\n",
       "      <td>Mostly cloudy. Showers</td>\n",
       "      <td>60%</td>\n",
       "      <td>Nil</td>\n",
       "      <td></td>\n",
       "      <td>NE to NW</td>\n",
       "    </tr>\n",
       "    <tr>\n",
       "      <th>9</th>\n",
       "      <td>Mon Oct 19</td>\n",
       "      <td>Mostly cloudy. Showers</td>\n",
       "      <td>60%</td>\n",
       "      <td>Nil</td>\n",
       "      <td></td>\n",
       "      <td>N to NW</td>\n",
       "    </tr>\n",
       "    <tr>\n",
       "      <th>10</th>\n",
       "      <td>Tue Oct 20</td>\n",
       "      <td></td>\n",
       "      <td>%</td>\n",
       "      <td></td>\n",
       "      <td></td>\n",
       "      <td></td>\n",
       "    </tr>\n",
       "    <tr>\n",
       "      <th>11</th>\n",
       "      <td>NaN</td>\n",
       "      <td>NaN</td>\n",
       "      <td>NaN</td>\n",
       "      <td>NaN</td>\n",
       "      <td>NaN</td>\n",
       "      <td>NaN</td>\n",
       "    </tr>\n",
       "    <tr>\n",
       "      <th>12</th>\n",
       "      <td>NaN</td>\n",
       "      <td>NaN</td>\n",
       "      <td>NaN</td>\n",
       "      <td>NaN</td>\n",
       "      <td>NaN</td>\n",
       "      <td>NaN</td>\n",
       "    </tr>\n",
       "    <tr>\n",
       "      <th>13</th>\n",
       "      <td>NaN</td>\n",
       "      <td>NaN</td>\n",
       "      <td>NaN</td>\n",
       "      <td>NaN</td>\n",
       "      <td>NaN</td>\n",
       "      <td>NaN</td>\n",
       "    </tr>\n",
       "  </tbody>\n",
       "</table>\n",
       "</div>"
      ],
      "text/plain": [
       "   forecast_date                             weather prob._of_precip  \\\n",
       "0     Sat Oct 10  Mostly sunny. Possible late shower             45%   \n",
       "1     Sun Oct 11        Mostly cloudy. Showers later             55%   \n",
       "2     Mon Oct 12        Partly cloudy. Showers later             60%   \n",
       "3     Tue Oct 13      Partly cloudy. Possible shower             60%   \n",
       "4     Wed Oct 14      Partly cloudy. Possible shower             70%   \n",
       "5     Thu Oct 15              Mostly cloudy. Showers             70%   \n",
       "6     Fri Oct 16              Mostly cloudy. Showers             60%   \n",
       "7     Sat Oct 17              Mostly cloudy. Showers             60%   \n",
       "8     Sun Oct 18              Mostly cloudy. Showers             60%   \n",
       "9     Mon Oct 19              Mostly cloudy. Showers             60%   \n",
       "10    Tue Oct 20                                                   %   \n",
       "11           NaN                                 NaN             NaN   \n",
       "12           NaN                                 NaN             NaN   \n",
       "13           NaN                                 NaN             NaN   \n",
       "\n",
       "   likely_snow snow_level      wind  \n",
       "0          Nil                   NW  \n",
       "1          Nil              W to SE  \n",
       "2          Nil             NW to SW  \n",
       "3          Nil              SE to W  \n",
       "4          Nil                NE/NW  \n",
       "5          Nil             NE to NW  \n",
       "6          Nil             NE to NW  \n",
       "7          Nil                 N/NW  \n",
       "8          Nil             NE to NW  \n",
       "9          Nil              N to NW  \n",
       "10                                   \n",
       "11         NaN        NaN       NaN  \n",
       "12         NaN        NaN       NaN  \n",
       "13         NaN        NaN       NaN  "
      ]
     },
     "execution_count": 4,
     "metadata": {},
     "output_type": "execute_result"
    }
   ],
   "source": [
    "perisherWrapper = getPerisherForecast.PerisherWrapper()\n",
    "df_forecast = perisherWrapper.findPerisherForecast()\n",
    "print(df_forecast.shape)\n",
    "df_forecast"
   ]
  },
  {
   "cell_type": "markdown",
   "metadata": {},
   "source": [
    "### Parse Forecast"
   ]
  },
  {
   "cell_type": "code",
   "execution_count": 6,
   "metadata": {},
   "outputs": [],
   "source": [
    "\n",
    "def days_from_actual(r):\n",
    "    \n",
    "    scrapped_date = datetime.datetime.strptime(r['scrapped_date'], '%Y-%m-%d')\n",
    "    # forecast_date = datetime.datetime.strptime(r['forecast_date_parsed'], '%Y-%m-%d %H:%M:%S')\n",
    "    # print(scrapped_date, forecast_date)\n",
    "\n",
    "    z = (r['forecast_date_parsed'] - scrapped_date).total_seconds() / (60 * 60 * 24)\n",
    "    return z\n",
    "\n",
    "df_forecast['forecast_date_parsed'] = df_forecast['forecast_date'].apply(\n",
    "    lambda x: datetime.datetime.strptime(x+', 2020', '%a %b %d, %Y') if pd.notnull(x) else x\n",
    ")\n",
    "\n",
    "df_forecast['likely_snow_discrete'] = df_forecast['likely_snow'].apply(\n",
    "    perisherWrapper.parseSnowForecast\n",
    ")\n",
    "\n",
    "df_forecast['scrapped_date'] = today\n",
    "\n",
    "df_forecast['forecast_date_ordinal'] = df_forecast['forecast_date'].apply(\n",
    "    lambda x: x.split(\" \")[0] if pd.notnull(x) else x\n",
    ")\n",
    "df_forecast['days_from_actual'] = df_forecast.apply(\n",
    "    days_from_actual,\n",
    "    axis=1\n",
    ")\n",
    "\n",
    "df_forecast.to_sql(\n",
    "    'perisherForecast',\n",
    "    conn,\n",
    "    if_exists='append'\n",
    ")"
   ]
  },
  {
   "cell_type": "markdown",
   "metadata": {},
   "source": [
    "### Format for Tableau"
   ]
  },
  {
   "cell_type": "code",
   "execution_count": 7,
   "metadata": {
    "tags": []
   },
   "outputs": [
    {
     "name": "stdout",
     "output_type": "stream",
     "text": [
      "(679, 8)\n"
     ]
    },
    {
     "data": {
      "text/html": [
       "<div>\n",
       "<style scoped>\n",
       "    .dataframe tbody tr th:only-of-type {\n",
       "        vertical-align: middle;\n",
       "    }\n",
       "\n",
       "    .dataframe tbody tr th {\n",
       "        vertical-align: top;\n",
       "    }\n",
       "\n",
       "    .dataframe thead th {\n",
       "        text-align: right;\n",
       "    }\n",
       "</style>\n",
       "<table border=\"1\" class=\"dataframe\">\n",
       "  <thead>\n",
       "    <tr style=\"text-align: right;\">\n",
       "      <th></th>\n",
       "      <th>forecast_date</th>\n",
       "      <th>forecast_date_parsed</th>\n",
       "      <th>wind</th>\n",
       "      <th>likely_snow_discrete</th>\n",
       "      <th>actual_snow_discrete</th>\n",
       "      <th>scrapped_date</th>\n",
       "      <th>days_from_actual</th>\n",
       "      <th>forecast_date_ordinal</th>\n",
       "    </tr>\n",
       "  </thead>\n",
       "  <tbody>\n",
       "    <tr>\n",
       "      <th>0</th>\n",
       "      <td>Fri Aug 14</td>\n",
       "      <td>2020-08-14 00:00:00</td>\n",
       "      <td>NE</td>\n",
       "      <td>3.5</td>\n",
       "      <td>3.5</td>\n",
       "      <td>2020-08-14</td>\n",
       "      <td>0.0</td>\n",
       "      <td>Fri</td>\n",
       "    </tr>\n",
       "    <tr>\n",
       "      <th>1</th>\n",
       "      <td>Sat Aug 15</td>\n",
       "      <td>2020-08-15 00:00:00</td>\n",
       "      <td>SW</td>\n",
       "      <td>2.0</td>\n",
       "      <td>3.5</td>\n",
       "      <td>2020-08-14</td>\n",
       "      <td>1.0</td>\n",
       "      <td>Sat</td>\n",
       "    </tr>\n",
       "    <tr>\n",
       "      <th>2</th>\n",
       "      <td>Sun Aug 16</td>\n",
       "      <td>2020-08-16 00:00:00</td>\n",
       "      <td>SW/NW</td>\n",
       "      <td>3.5</td>\n",
       "      <td>3.5</td>\n",
       "      <td>2020-08-14</td>\n",
       "      <td>2.0</td>\n",
       "      <td>Sun</td>\n",
       "    </tr>\n",
       "    <tr>\n",
       "      <th>3</th>\n",
       "      <td>Mon Aug 17</td>\n",
       "      <td>2020-08-17 00:00:00</td>\n",
       "      <td>NW</td>\n",
       "      <td>2.0</td>\n",
       "      <td>2.0</td>\n",
       "      <td>2020-08-14</td>\n",
       "      <td>3.0</td>\n",
       "      <td>Mon</td>\n",
       "    </tr>\n",
       "    <tr>\n",
       "      <th>4</th>\n",
       "      <td>Tue Aug 18</td>\n",
       "      <td>2020-08-18 00:00:00</td>\n",
       "      <td>N</td>\n",
       "      <td>22.5</td>\n",
       "      <td>7.5</td>\n",
       "      <td>2020-08-14</td>\n",
       "      <td>4.0</td>\n",
       "      <td>Tue</td>\n",
       "    </tr>\n",
       "  </tbody>\n",
       "</table>\n",
       "</div>"
      ],
      "text/plain": [
       "  forecast_date forecast_date_parsed   wind  likely_snow_discrete  \\\n",
       "0    Fri Aug 14  2020-08-14 00:00:00     NE                   3.5   \n",
       "1    Sat Aug 15  2020-08-15 00:00:00     SW                   2.0   \n",
       "2    Sun Aug 16  2020-08-16 00:00:00  SW/NW                   3.5   \n",
       "3    Mon Aug 17  2020-08-17 00:00:00     NW                   2.0   \n",
       "4    Tue Aug 18  2020-08-18 00:00:00      N                  22.5   \n",
       "\n",
       "   actual_snow_discrete scrapped_date  days_from_actual forecast_date_ordinal  \n",
       "0                   3.5    2020-08-14               0.0                   Fri  \n",
       "1                   3.5    2020-08-14               1.0                   Sat  \n",
       "2                   3.5    2020-08-14               2.0                   Sun  \n",
       "3                   2.0    2020-08-14               3.0                   Mon  \n",
       "4                   7.5    2020-08-14               4.0                   Tue  "
      ]
     },
     "execution_count": 7,
     "metadata": {},
     "output_type": "execute_result"
    }
   ],
   "source": [
    "df_all_forecasts = pd.read_sql(\n",
    "    '''\n",
    "    SELECT\n",
    "        P.forecast_date, forecast_date_parsed, wind, \n",
    "        likely_snow_discrete, A.actual_snow_discrete,\n",
    "        scrapped_date, days_from_actual, forecast_date_ordinal\n",
    "    FROM perisherForecast P\n",
    "\n",
    "    LEFT JOIN (\n",
    "        SELECT DISTINCT forecast_date, likely_snow_discrete as actual_snow_discrete\n",
    "        FROM perisherForecast\n",
    "        WHERE days_from_actual = 0.0\n",
    "    ) A ON\n",
    "        P.forecast_date = A.forecast_date\n",
    "    ''',\n",
    "    conn\n",
    ")\n",
    "\n",
    "df_all_forecasts['likely_snow_discrete'] = df_all_forecasts['likely_snow_discrete'].apply(\n",
    "    lambda x: float(x) if pd.notnull(x) else x\n",
    ")\n",
    "\n",
    "df_all_forecasts.drop_duplicates(inplace=True)\n",
    "print(df_all_forecasts.shape)\n",
    "df_all_forecasts.head()"
   ]
  },
  {
   "cell_type": "code",
   "execution_count": 8,
   "metadata": {
    "tags": []
   },
   "outputs": [
    {
     "name": "stderr",
     "output_type": "stream",
     "text": [
      "processing table: 679it [00:00, 21919.48it/s]"
     ]
    },
    {
     "name": "stdout",
     "output_type": "stream",
     "text": [
      "Table 'Extract' does not exist in extract ./tableau/all_forecasts.hyper, creating.\n",
      "PYTHON: 10/10/2020 13:26\n",
      "\n",
      "PYTHON: Directory cleaned\n",
      "PYTHON: 10/10/2020 13:26\n"
     ]
    },
    {
     "name": "stderr",
     "output_type": "stream",
     "text": [
      "\n"
     ]
    }
   ],
   "source": [
    "# write to tableau specific format\n",
    "getTableauWrapper.makeConversion(df_all_forecasts, \"all_forecasts\")\n",
    "getTableauWrapper.cleanLogs()"
   ]
  },
  {
   "cell_type": "markdown",
   "metadata": {},
   "source": [
    "### Vis for Simple Tracking"
   ]
  },
  {
   "cell_type": "code",
   "execution_count": 9,
   "metadata": {},
   "outputs": [
    {
     "data": {
      "text/plain": [
       "Text(0.5, 1.0, 'predicted snow fall')"
      ]
     },
     "execution_count": 9,
     "metadata": {},
     "output_type": "execute_result"
    },
    {
     "data": {
      "image/png": "[encoded data removed]",
      "text/plain": [
       "<Figure size 432x288 with 1 Axes>"
      ]
     },
     "metadata": {},
     "output_type": "display_data"
    }
   ],
   "source": [
    "ax = sns.lineplot(x='forecast_date_parsed', y='likely_snow_discrete', data=df_all_forecasts)\n",
    "plt.xticks(rotation=90)\n",
    "plt.title('predicted snow fall')"
   ]
  },
  {
   "cell_type": "code",
   "execution_count": 10,
   "metadata": {},
   "outputs": [],
   "source": [
    "fig = ax.get_figure()\n",
    "fig.savefig(\"reports/perisherForecast.png\")"
   ]
  },
  {
   "cell_type": "markdown",
   "metadata": {},
   "source": [
    "### Export"
   ]
  },
  {
   "cell_type": "code",
   "execution_count": 11,
   "metadata": {
    "tags": []
   },
   "outputs": [],
   "source": [
    "\n",
    "df_all_forecasts.to_csv('./perisherDataExport.csv', index=False)"
   ]
  },
  {
   "cell_type": "code",
   "execution_count": null,
   "metadata": {},
   "outputs": [],
   "source": []
  }
 ],
 "metadata": {
  "kernelspec": {
   "display_name": "Python 3",
   "language": "python",
   "name": "python3"
  },
  "language_info": {
   "codemirror_mode": {
    "name": "ipython",
    "version": 3
   },
   "file_extension": ".py",
   "mimetype": "text/x-python",
   "name": "python",
   "nbconvert_exporter": "python",
   "pygments_lexer": "ipython3",
   "version": "3.7.6"
  }
 },
 "nbformat": 4,
 "nbformat_minor": 4
}
