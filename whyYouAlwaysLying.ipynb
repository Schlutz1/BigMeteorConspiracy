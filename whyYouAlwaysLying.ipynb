{
 "cells": [
  {
   "cell_type": "markdown",
   "metadata": {},
   "source": [
    "# Is Perisher Full of Shit?\n",
    "Do ski resorts artifically inflate their forecasts to increase business?"
   ]
  },
  {
   "cell_type": "markdown",
   "metadata": {},
   "source": [
    "### Config "
   ]
  },
  {
   "cell_type": "code",
   "execution_count": 88,
   "metadata": {
    "tags": []
   },
   "outputs": [
    {
     "output_type": "stream",
     "name": "stdout",
     "text": "The autoreload extension is already loaded. To reload it, use:\n  %reload_ext autoreload\nYou are using the Extract API 2.0, please save the output as .hyper format\n\nLast run: 2020-08-14\n"
    }
   ],
   "source": [
    "%load_ext autoreload\n",
    "%autoreload 2\n",
    "\n",
    "# imports\n",
    "import getPerisherForecast\n",
    "import getTableauWrapper\n",
    "\n",
    "import pandas as pd\n",
    "import datetime\n",
    "import os, sys\n",
    "import sqlite3\n",
    "\n",
    "# globals\n",
    "db = \"./catch.db\"\n",
    "conn = sqlite3.connect(db)\n",
    "\n",
    "today = datetime.datetime.strftime(datetime.datetime.today(), '%Y-%m-%d')\n",
    "print(f\"\\nLast run: {today}\")"
   ]
  },
  {
   "cell_type": "markdown",
   "metadata": {},
   "source": [
    "### Get Perisher Forecast"
   ]
  },
  {
   "cell_type": "code",
   "execution_count": 82,
   "metadata": {
    "tags": []
   },
   "outputs": [
    {
     "output_type": "stream",
     "name": "stdout",
     "text": "(14, 6)\n"
    },
    {
     "output_type": "execute_result",
     "data": {
      "text/plain": "   forecast_date                                  weather prob._of_precip  \\\n0     Fri Aug 14     Cloudy. Rain, sleet and snow showers             90%   \n1     Sat Aug 15  Cloudy. Sleet and snow showers clearing             75%   \n2     Sun Aug 16          Rain, tending to sleet and snow             70%   \n3     Mon Aug 17              Mostly cloudy. Snow showers             60%   \n4     Tue Aug 18                     Windy with snowfalls             90%   \n5     Wed Aug 19                     Windy with snowfalls             90%   \n6     Thu Aug 20                     Windy with snowfalls             80%   \n7     Fri Aug 21       Cloudy. Snow showers. Winds easing             90%   \n8     Sat Aug 22                    Possible snow showers             40%   \n9     Sun Aug 23                Early frost. Mostly sunny             10%   \n10    Mon Aug 24                Early frost. Mostly sunny             15%   \n11    Tue Aug 25              Mix of rain, snow and sleet             60%   \n12    Wed Aug 26         Windy, with rain, sleet and snow             60%   \n13    Thu Aug 27              Rain tending to snow. Windy             40%   \n\n   likely_snow snow_level   wind  \n0        2-5cm       1700     NE  \n1         <2cm       1600     SW  \n2        2-5cm       1600  SW/NW  \n3         <2cm       1500     NW  \n4      15-30cm       1300      N  \n5      20-40cm       1100     NW  \n6      15-30cm        800     NW  \n7       5-10cm        900      W  \n8        2-5cm       1000      W  \n9          Nil                NW  \n10         Nil                NW  \n11        <2cm       1600     NW  \n12        <2cm       1700     NW  \n13        <2cm       1500     NW  ",
      "text/html": "<div>\n<style scoped>\n    .dataframe tbody tr th:only-of-type {\n        vertical-align: middle;\n    }\n\n    .dataframe tbody tr th {\n        vertical-align: top;\n    }\n\n    .dataframe thead th {\n        text-align: right;\n    }\n</style>\n<table border=\"1\" class=\"dataframe\">\n  <thead>\n    <tr style=\"text-align: right;\">\n      <th></th>\n      <th>forecast_date</th>\n      <th>weather</th>\n      <th>prob._of_precip</th>\n      <th>likely_snow</th>\n      <th>snow_level</th>\n      <th>wind</th>\n    </tr>\n  </thead>\n  <tbody>\n    <tr>\n      <th>0</th>\n      <td>Fri Aug 14</td>\n      <td>Cloudy. Rain, sleet and snow showers</td>\n      <td>90%</td>\n      <td>2-5cm</td>\n      <td>1700</td>\n      <td>NE</td>\n    </tr>\n    <tr>\n      <th>1</th>\n      <td>Sat Aug 15</td>\n      <td>Cloudy. Sleet and snow showers clearing</td>\n      <td>75%</td>\n      <td>&lt;2cm</td>\n      <td>1600</td>\n      <td>SW</td>\n    </tr>\n    <tr>\n      <th>2</th>\n      <td>Sun Aug 16</td>\n      <td>Rain, tending to sleet and snow</td>\n      <td>70%</td>\n      <td>2-5cm</td>\n      <td>1600</td>\n      <td>SW/NW</td>\n    </tr>\n    <tr>\n      <th>3</th>\n      <td>Mon Aug 17</td>\n      <td>Mostly cloudy. Snow showers</td>\n      <td>60%</td>\n      <td>&lt;2cm</td>\n      <td>1500</td>\n      <td>NW</td>\n    </tr>\n    <tr>\n      <th>4</th>\n      <td>Tue Aug 18</td>\n      <td>Windy with snowfalls</td>\n      <td>90%</td>\n      <td>15-30cm</td>\n      <td>1300</td>\n      <td>N</td>\n    </tr>\n    <tr>\n      <th>5</th>\n      <td>Wed Aug 19</td>\n      <td>Windy with snowfalls</td>\n      <td>90%</td>\n      <td>20-40cm</td>\n      <td>1100</td>\n      <td>NW</td>\n    </tr>\n    <tr>\n      <th>6</th>\n      <td>Thu Aug 20</td>\n      <td>Windy with snowfalls</td>\n      <td>80%</td>\n      <td>15-30cm</td>\n      <td>800</td>\n      <td>NW</td>\n    </tr>\n    <tr>\n      <th>7</th>\n      <td>Fri Aug 21</td>\n      <td>Cloudy. Snow showers. Winds easing</td>\n      <td>90%</td>\n      <td>5-10cm</td>\n      <td>900</td>\n      <td>W</td>\n    </tr>\n    <tr>\n      <th>8</th>\n      <td>Sat Aug 22</td>\n      <td>Possible snow showers</td>\n      <td>40%</td>\n      <td>2-5cm</td>\n      <td>1000</td>\n      <td>W</td>\n    </tr>\n    <tr>\n      <th>9</th>\n      <td>Sun Aug 23</td>\n      <td>Early frost. Mostly sunny</td>\n      <td>10%</td>\n      <td>Nil</td>\n      <td></td>\n      <td>NW</td>\n    </tr>\n    <tr>\n      <th>10</th>\n      <td>Mon Aug 24</td>\n      <td>Early frost. Mostly sunny</td>\n      <td>15%</td>\n      <td>Nil</td>\n      <td></td>\n      <td>NW</td>\n    </tr>\n    <tr>\n      <th>11</th>\n      <td>Tue Aug 25</td>\n      <td>Mix of rain, snow and sleet</td>\n      <td>60%</td>\n      <td>&lt;2cm</td>\n      <td>1600</td>\n      <td>NW</td>\n    </tr>\n    <tr>\n      <th>12</th>\n      <td>Wed Aug 26</td>\n      <td>Windy, with rain, sleet and snow</td>\n      <td>60%</td>\n      <td>&lt;2cm</td>\n      <td>1700</td>\n      <td>NW</td>\n    </tr>\n    <tr>\n      <th>13</th>\n      <td>Thu Aug 27</td>\n      <td>Rain tending to snow. Windy</td>\n      <td>40%</td>\n      <td>&lt;2cm</td>\n      <td>1500</td>\n      <td>NW</td>\n    </tr>\n  </tbody>\n</table>\n</div>"
     },
     "metadata": {},
     "execution_count": 82
    }
   ],
   "source": [
    "perisherWrapper = getPerisherForecast.PerisherWrapper()\n",
    "df_forecast = perisherWrapper.findPerisherForecast()\n",
    "print(df_forecast.shape)\n",
    "df_forecast"
   ]
  },
  {
   "cell_type": "markdown",
   "metadata": {},
   "source": [
    "### Parse Forecast"
   ]
  },
  {
   "cell_type": "code",
   "execution_count": 83,
   "metadata": {},
   "outputs": [],
   "source": [
    "\n",
    "df_forecast['forecast_date_parsed'] = df_forecast['forecast_date'].apply(\n",
    "    lambda x: datetime.datetime.strptime(x+', 2020', '%a %b %d, %Y')\n",
    ")\n",
    "df_forecast['likely_snow_discrete'] = df_forecast['likely_snow'].apply(\n",
    "    perisherWrapper.parseSnowForecast\n",
    ")\n",
    "df_forecast['scrapped_date'] = today\n",
    "\n",
    "df_forecast.to_sql(\n",
    "    'perisherForecast',\n",
    "    conn,\n",
    "    if_exists='append'\n",
    ")"
   ]
  },
  {
   "cell_type": "markdown",
   "metadata": {},
   "source": [
    "### Format for Tableau"
   ]
  },
  {
   "cell_type": "code",
   "execution_count": 87,
   "metadata": {
    "tags": []
   },
   "outputs": [
    {
     "output_type": "stream",
     "name": "stdout",
     "text": "(14, 6)\n"
    },
    {
     "output_type": "execute_result",
     "data": {
      "text/plain": "  forecast_date forecast_date_parsed   wind likely_snow likely_snow_discrete  \\\n0    Fri Aug 14  2020-08-14 00:00:00     NE       2-5cm                  3.5   \n1    Sat Aug 15  2020-08-15 00:00:00     SW        <2cm                    2   \n2    Sun Aug 16  2020-08-16 00:00:00  SW/NW       2-5cm                  3.5   \n3    Mon Aug 17  2020-08-17 00:00:00     NW        <2cm                    2   \n4    Tue Aug 18  2020-08-18 00:00:00      N     15-30cm                 22.5   \n\n  scrapped_date  \n0    2020-08-14  \n1    2020-08-14  \n2    2020-08-14  \n3    2020-08-14  \n4    2020-08-14  ",
      "text/html": "<div>\n<style scoped>\n    .dataframe tbody tr th:only-of-type {\n        vertical-align: middle;\n    }\n\n    .dataframe tbody tr th {\n        vertical-align: top;\n    }\n\n    .dataframe thead th {\n        text-align: right;\n    }\n</style>\n<table border=\"1\" class=\"dataframe\">\n  <thead>\n    <tr style=\"text-align: right;\">\n      <th></th>\n      <th>forecast_date</th>\n      <th>forecast_date_parsed</th>\n      <th>wind</th>\n      <th>likely_snow</th>\n      <th>likely_snow_discrete</th>\n      <th>scrapped_date</th>\n    </tr>\n  </thead>\n  <tbody>\n    <tr>\n      <th>0</th>\n      <td>Fri Aug 14</td>\n      <td>2020-08-14 00:00:00</td>\n      <td>NE</td>\n      <td>2-5cm</td>\n      <td>3.5</td>\n      <td>2020-08-14</td>\n    </tr>\n    <tr>\n      <th>1</th>\n      <td>Sat Aug 15</td>\n      <td>2020-08-15 00:00:00</td>\n      <td>SW</td>\n      <td>&lt;2cm</td>\n      <td>2</td>\n      <td>2020-08-14</td>\n    </tr>\n    <tr>\n      <th>2</th>\n      <td>Sun Aug 16</td>\n      <td>2020-08-16 00:00:00</td>\n      <td>SW/NW</td>\n      <td>2-5cm</td>\n      <td>3.5</td>\n      <td>2020-08-14</td>\n    </tr>\n    <tr>\n      <th>3</th>\n      <td>Mon Aug 17</td>\n      <td>2020-08-17 00:00:00</td>\n      <td>NW</td>\n      <td>&lt;2cm</td>\n      <td>2</td>\n      <td>2020-08-14</td>\n    </tr>\n    <tr>\n      <th>4</th>\n      <td>Tue Aug 18</td>\n      <td>2020-08-18 00:00:00</td>\n      <td>N</td>\n      <td>15-30cm</td>\n      <td>22.5</td>\n      <td>2020-08-14</td>\n    </tr>\n  </tbody>\n</table>\n</div>"
     },
     "metadata": {},
     "execution_count": 87
    }
   ],
   "source": [
    "df_all_forecasts = pd.read_sql(\n",
    "    '''\n",
    "    SELECT\n",
    "        forecast_date, forecast_date_parsed, wind, likely_snow, likely_snow_discrete, scrapped_date\n",
    "    FROM perisherForecast\n",
    "    ''',\n",
    "    conn\n",
    ")\n",
    "print(df_all_forecasts.shape)\n",
    "df_all_forecasts.head()"
   ]
  },
  {
   "cell_type": "code",
   "execution_count": 89,
   "metadata": {
    "tags": []
   },
   "outputs": [
    {
     "output_type": "stream",
     "name": "stderr",
     "text": "processing table: 14it [00:00, 5036.04it/s]Table 'Extract' does not exist in extract ./tableau/all_forecasts.hyper, creating.\nPYTHON: 14/08/2020 12:29\n\nPYTHON: Directory cleaned\nPYTHON: 14/08/2020 12:29\n\n"
    }
   ],
   "source": [
    "# write to tableau specific format\n",
    "getTableauWrapper.makeConversion(df_all_forecasts, \"all_forecasts\")\n",
    "getTableauWrapper.cleanLogs()"
   ]
  },
  {
   "cell_type": "code",
   "execution_count": null,
   "metadata": {},
   "outputs": [],
   "source": []
  }
 ],
 "metadata": {
  "language_info": {
   "codemirror_mode": {
    "name": "ipython",
    "version": 3
   },
   "file_extension": ".py",
   "mimetype": "text/x-python",
   "name": "python",
   "nbconvert_exporter": "python",
   "pygments_lexer": "ipython3",
   "version": 3
  },
  "orig_nbformat": 2,
  "kernelspec": {
   "name": "python_defaultSpec_1597308611274",
   "display_name": "Python 3.7.6 64-bit ('3.7.6': pyenv)"
  }
 },
 "nbformat": 4,
 "nbformat_minor": 2
}